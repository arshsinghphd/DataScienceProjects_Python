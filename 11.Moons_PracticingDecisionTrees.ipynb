{
 "cells": [
  {
   "cell_type": "markdown",
   "id": "secondary-visit",
   "metadata": {},
   "source": [
    "# Practicing and Understanding Working of Decision Tree Classifiers and Regressions\n",
    "\n",
    "### Using non-linear datasets called moons"
   ]
  },
  {
   "cell_type": "code",
   "execution_count": 1,
   "id": "damaged-inflation",
   "metadata": {},
   "outputs": [],
   "source": [
    "import numpy as np\n",
    "random_state=42"
   ]
  },
  {
   "cell_type": "code",
   "execution_count": 2,
   "id": "innovative-traveler",
   "metadata": {},
   "outputs": [],
   "source": [
    "import matplotlib as mpl"
   ]
  },
  {
   "cell_type": "code",
   "execution_count": 3,
   "id": "silent-quest",
   "metadata": {},
   "outputs": [],
   "source": [
    "import matplotlib.pyplot as plt"
   ]
  },
  {
   "cell_type": "code",
   "execution_count": 4,
   "id": "cathedral-zambia",
   "metadata": {},
   "outputs": [],
   "source": [
    "from sklearn.datasets import make_moons"
   ]
  },
  {
   "cell_type": "code",
   "execution_count": 5,
   "id": "renewable-reward",
   "metadata": {},
   "outputs": [],
   "source": [
    "X,y=make_moons(n_samples=100, noise=0.15, random_state=42)"
   ]
  },
  {
   "cell_type": "code",
   "execution_count": 6,
   "id": "wired-hungarian",
   "metadata": {},
   "outputs": [
    {
     "data": {
      "text/plain": [
       "(array([ 1.61383833, -0.49115086]), 1, array([-0.22452786,  1.01733299]), 0)"
      ]
     },
     "execution_count": 6,
     "metadata": {},
     "output_type": "execute_result"
    }
   ],
   "source": [
    "X[0], y[0], X[50], y[50]"
   ]
  },
  {
   "cell_type": "code",
   "execution_count": 7,
   "id": "transsexual-underground",
   "metadata": {},
   "outputs": [
    {
     "data": {
      "text/plain": [
       "(1.2752221622422337, -1.2720155884887554)"
      ]
     },
     "execution_count": 7,
     "metadata": {},
     "output_type": "execute_result"
    }
   ],
   "source": [
    "X[:,0][y==0].max(), X[:,0][y==0].min()"
   ]
  },
  {
   "cell_type": "code",
   "execution_count": 8,
   "id": "first-wrong",
   "metadata": {},
   "outputs": [
    {
     "data": {
      "text/plain": [
       "(1.2711135917248466, -0.1795630595007453)"
      ]
     },
     "execution_count": 8,
     "metadata": {},
     "output_type": "execute_result"
    }
   ],
   "source": [
    "X[:,1][y==0].max(), X[:,1][y==0].min()"
   ]
  },
  {
   "cell_type": "code",
   "execution_count": 9,
   "id": "female-measurement",
   "metadata": {},
   "outputs": [
    {
     "data": {
      "text/plain": [
       "(2.4093807207967215, -0.06516218662264421)"
      ]
     },
     "execution_count": 9,
     "metadata": {},
     "output_type": "execute_result"
    }
   ],
   "source": [
    "X[:,0][y==1].max(),X[:,0][y==1].min()"
   ]
  },
  {
   "cell_type": "code",
   "execution_count": 10,
   "id": "attended-cologne",
   "metadata": {},
   "outputs": [
    {
     "data": {
      "text/plain": [
       "(0.7055096982472316, -0.6491427462708279)"
      ]
     },
     "execution_count": 10,
     "metadata": {},
     "output_type": "execute_result"
    }
   ],
   "source": [
    "X[:,1][y==1].max(),X[:,1][y==1].min()"
   ]
  },
  {
   "cell_type": "code",
   "execution_count": 11,
   "id": "macro-amino",
   "metadata": {},
   "outputs": [],
   "source": [
    "def plot_dataset(X,y,axes):\n",
    "    plt.plot(X[:,0][y==0],X[:,1][y==0],\"bs\")\n",
    "    plt.plot(X[:,0][y==1],X[:,1][y==1],\"g^\")\n",
    "    plt.axis(axes)\n",
    "    plt.grid(True, which='both')    "
   ]
  },
  {
   "cell_type": "code",
   "execution_count": 12,
   "id": "voluntary-cassette",
   "metadata": {},
   "outputs": [],
   "source": [
    "axes=[-1.5,2.5,-1,1.5]"
   ]
  },
  {
   "cell_type": "code",
   "execution_count": 13,
   "id": "prescription-tenant",
   "metadata": {},
   "outputs": [
    {
     "data": {
      "image/png": "[encoded data removed]",
      "text/plain": [
       "<Figure size 432x288 with 1 Axes>"
      ]
     },
     "metadata": {
      "needs_background": "light"
     },
     "output_type": "display_data"
    }
   ],
   "source": [
    "plot_dataset(X,y,axes)"
   ]
  },
  {
   "cell_type": "code",
   "execution_count": 14,
   "id": "ideal-massachusetts",
   "metadata": {},
   "outputs": [],
   "source": [
    "def plot_predictions(model, axes,title=\"\"):\n",
    "    x0s = np.linspace(axes[0], axes[1], 100)\n",
    "    x1s = np.linspace(axes[2], axes[3], 100)\n",
    "    x0, x1 = np.meshgrid(x0s, x1s)\n",
    "    X = np.c_[x0.ravel(), x1.ravel()]\n",
    "    y_pred = model.predict(X).reshape(x0.shape)\n",
    "    y_decision = model.predict(X).reshape(x0.shape)\n",
    "    plt.contourf(x0, x1, y_pred, cmap=plt.cm.brg, alpha=0.2)\n",
    "    plt.contourf(x0, x1, y_decision, cmap=plt.cm.brg, alpha=0.1)\n",
    "    plt.title(\"${}$\".format(title))"
   ]
  },
  {
   "cell_type": "code",
   "execution_count": 15,
   "id": "express-anniversary",
   "metadata": {},
   "outputs": [],
   "source": [
    "from sklearn.tree import DecisionTreeClassifier"
   ]
  },
  {
   "cell_type": "code",
   "execution_count": 16,
   "id": "acute-financing",
   "metadata": {},
   "outputs": [],
   "source": [
    "tree_clf=DecisionTreeClassifier(max_depth=2,random_state=42)"
   ]
  },
  {
   "cell_type": "code",
   "execution_count": 17,
   "id": "million-wings",
   "metadata": {},
   "outputs": [
    {
     "data": {
      "text/plain": [
       "DecisionTreeClassifier(max_depth=2, random_state=42)"
      ]
     },
     "execution_count": 17,
     "metadata": {},
     "output_type": "execute_result"
    }
   ],
   "source": [
    "tree_clf.fit(X,y)"
   ]
  },
  {
   "cell_type": "code",
   "execution_count": 18,
   "id": "worth-senate",
   "metadata": {
    "scrolled": false
   },
   "outputs": [
    {
     "data": {
      "image/png": "[encoded data removed]",
      "text/plain": [
       "<Figure size 432x288 with 1 Axes>"
      ]
     },
     "metadata": {
      "needs_background": "light"
     },
     "output_type": "display_data"
    }
   ],
   "source": [
    "plot_dataset(X,y,axes)\n",
    "plot_predictions(tree_clf,axes,\"Classifier:\\ Max\\ Depth =2\")"
   ]
  },
  {
   "cell_type": "markdown",
   "id": "forty-hawaiian",
   "metadata": {},
   "source": [
    "#1 Underfitting with only 2 splits allowed\n",
    "\n",
    "#2 All decision boundaries are orthogonal to each other\n"
   ]
  },
  {
   "cell_type": "code",
   "execution_count": 19,
   "id": "extensive-flour",
   "metadata": {},
   "outputs": [],
   "source": [
    "tree_clf=DecisionTreeClassifier(random_state=42)"
   ]
  },
  {
   "cell_type": "code",
   "execution_count": 20,
   "id": "unlike-mystery",
   "metadata": {
    "scrolled": true
   },
   "outputs": [
    {
     "data": {
      "text/plain": [
       "DecisionTreeClassifier(random_state=42)"
      ]
     },
     "execution_count": 20,
     "metadata": {},
     "output_type": "execute_result"
    }
   ],
   "source": [
    "tree_clf.fit(X,y)"
   ]
  },
  {
   "cell_type": "code",
   "execution_count": 21,
   "id": "inner-foundation",
   "metadata": {
    "scrolled": true
   },
   "outputs": [
    {
     "data": {
      "image/png": "[encoded data removed]",
      "text/plain": [
       "<Figure size 432x288 with 1 Axes>"
      ]
     },
     "metadata": {
      "needs_background": "light"
     },
     "output_type": "display_data"
    }
   ],
   "source": [
    "plot_dataset(X,y,axes)\n",
    "plot_predictions(tree_clf,axes,\"Classifier:\\ No\\ Hyperparameters\")"
   ]
  },
  {
   "cell_type": "markdown",
   "id": "waiting-installation",
   "metadata": {},
   "source": [
    "If no hyperparameters declared gross overfitting."
   ]
  },
  {
   "cell_type": "code",
   "execution_count": null,
   "id": "future-representation",
   "metadata": {},
   "outputs": [],
   "source": [
    "from sklearn.tree import DecisionTreeRegressor"
   ]
  },
  {
   "cell_type": "code",
   "execution_count": null,
   "id": "cooperative-accuracy",
   "metadata": {},
   "outputs": [],
   "source": [
    "tree_reg=DecisionTreeRegressor(max_depth=2,random_state=36)"
   ]
  },
  {
   "cell_type": "code",
   "execution_count": null,
   "id": "senior-theta",
   "metadata": {},
   "outputs": [],
   "source": [
    "tree_reg.fit(X,y)"
   ]
  },
  {
   "cell_type": "code",
   "execution_count": null,
   "id": "gentle-skirt",
   "metadata": {},
   "outputs": [],
   "source": [
    "plot_dataset(X,y,axes)\n",
    "plot_predictions(tree_reg,axes,\"Regression:\\ Max\\ Depth = 2\")"
   ]
  },
  {
   "cell_type": "code",
   "execution_count": null,
   "id": "serious-portuguese",
   "metadata": {},
   "outputs": [],
   "source": [
    "tree_reg=DecisionTreeRegressor(random_state=36)"
   ]
  },
  {
   "cell_type": "code",
   "execution_count": null,
   "id": "systematic-antarctica",
   "metadata": {},
   "outputs": [],
   "source": [
    "tree_reg.fit(X,y)"
   ]
  },
  {
   "cell_type": "code",
   "execution_count": null,
   "id": "collective-brake",
   "metadata": {
    "scrolled": false
   },
   "outputs": [],
   "source": [
    "plot_dataset(X,y,axes)\n",
    "plot_predictions(tree_reg,axes,\"Regression:\\ No\\ Hyperparameters\")"
   ]
  },
  {
   "cell_type": "markdown",
   "id": "descending-school",
   "metadata": {},
   "source": [
    "Classifier and regressors work very similarly in case of only two features"
   ]
  },
  {
   "cell_type": "code",
   "execution_count": null,
   "id": "mounted-worst",
   "metadata": {},
   "outputs": [],
   "source": [
    "tree_reg=DecisionTreeRegressor(max_depth=4,random_state=36)"
   ]
  },
  {
   "cell_type": "code",
   "execution_count": null,
   "id": "immune-surveillance",
   "metadata": {},
   "outputs": [],
   "source": [
    "tree_reg.fit(X,y)"
   ]
  },
  {
   "cell_type": "code",
   "execution_count": null,
   "id": "automotive-handbook",
   "metadata": {},
   "outputs": [],
   "source": [
    "plot_dataset(X,y,axes)\n",
    "plot_predictions(tree_reg,axes,\"Regressor:\\ 4\\ Splits\")"
   ]
  },
  {
   "cell_type": "markdown",
   "id": "general-timer",
   "metadata": {},
   "source": [
    "###  See if scaling can help us"
   ]
  },
  {
   "cell_type": "code",
   "execution_count": null,
   "id": "private-source",
   "metadata": {},
   "outputs": [],
   "source": [
    "from sklearn.preprocessing import StandardScaler"
   ]
  },
  {
   "cell_type": "code",
   "execution_count": null,
   "id": "boring-porter",
   "metadata": {},
   "outputs": [],
   "source": [
    "from sklearn.pipeline import Pipeline"
   ]
  },
  {
   "cell_type": "code",
   "execution_count": null,
   "id": "declared-principal",
   "metadata": {},
   "outputs": [],
   "source": [
    "tree_reg_pipe=Pipeline([\n",
    "    ('scaler',StandardScaler()),\n",
    "    ('model',DecisionTreeRegressor(max_depth=4,random_state=42))\n",
    "])"
   ]
  },
  {
   "cell_type": "code",
   "execution_count": null,
   "id": "induced-advertiser",
   "metadata": {},
   "outputs": [],
   "source": [
    "tree_reg_pipe.fit(X,y)"
   ]
  },
  {
   "cell_type": "code",
   "execution_count": null,
   "id": "theoretical-fellowship",
   "metadata": {
    "scrolled": true
   },
   "outputs": [],
   "source": [
    "plot_dataset(X,y,axes)\n",
    "plot_predictions(tree_reg_pipe,axes,\"Regressor:\\ After\\ Scaling,\\ Max\\ Depth=4\")"
   ]
  },
  {
   "cell_type": "markdown",
   "id": "crucial-lancaster",
   "metadata": {},
   "source": [
    "No, not in this case"
   ]
  }
 ],
 "metadata": {
  "kernelspec": {
   "display_name": "Python 3",
   "language": "python",
   "name": "python3"
  },
  "language_info": {
   "codemirror_mode": {
    "name": "ipython",
    "version": 3
   },
   "file_extension": ".py",
   "mimetype": "text/x-python",
   "name": "python",
   "nbconvert_exporter": "python",
   "pygments_lexer": "ipython3",
   "version": "3.7.4"
  }
 },
 "nbformat": 4,
 "nbformat_minor": 5
}
