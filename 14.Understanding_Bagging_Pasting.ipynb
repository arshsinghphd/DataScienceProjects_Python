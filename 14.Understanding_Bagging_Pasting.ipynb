{
 "cells": [
  {
   "cell_type": "markdown",
   "id": "9ef52940",
   "metadata": {},
   "source": [
    "# Bagging and Pasting\n",
    "### Also, Random Patches and Random Subspaces\n",
    "\n",
    "BAGGING = *B*ootstrap *AGG*regat*ING*\n",
    "\n",
    "Training the same model over and over _with_ replacement\n",
    "\n",
    "PASTING\n",
    "\n",
    "Training the same model over and over _without_ replacement\n",
    "\n",
    "\n",
    "Once these models are trained, for classifiers, the aggregate function uses satistical mode for predictions, like voting classifiers. For regression, the aggregation is done by averaging. Generally, such ensembles have similar bias but lower variance, higher predictive power, than same models trained with entire data."
   ]
  },
  {
   "cell_type": "code",
   "execution_count": 1,
   "id": "b6f0246e",
   "metadata": {},
   "outputs": [],
   "source": [
    "import numpy as np\n",
    "import pandas as pd\n",
    "random_state=42"
   ]
  },
  {
   "cell_type": "code",
   "execution_count": 2,
   "id": "2bb6be5a",
   "metadata": {},
   "outputs": [],
   "source": [
    "from sklearn.datasets import make_moons"
   ]
  },
  {
   "cell_type": "code",
   "execution_count": 3,
   "id": "5789db5e",
   "metadata": {},
   "outputs": [],
   "source": [
    "X, y= make_moons(n_samples=1000, noise=.3, random_state=42)"
   ]
  },
  {
   "cell_type": "code",
   "execution_count": 4,
   "id": "25565519",
   "metadata": {},
   "outputs": [],
   "source": [
    "from sklearn.model_selection import train_test_split"
   ]
  },
  {
   "cell_type": "code",
   "execution_count": 5,
   "id": "1fc4e598",
   "metadata": {},
   "outputs": [],
   "source": [
    "X_train, X_test, y_train, y_test=train_test_split(X,y,test_size=.2)"
   ]
  },
  {
   "cell_type": "code",
   "execution_count": 6,
   "id": "a69c1cde",
   "metadata": {},
   "outputs": [],
   "source": [
    "from sklearn.ensemble import BaggingClassifier"
   ]
  },
  {
   "cell_type": "code",
   "execution_count": 7,
   "id": "b325ca82",
   "metadata": {},
   "outputs": [],
   "source": [
    "from sklearn.tree import DecisionTreeClassifier"
   ]
  },
  {
   "cell_type": "markdown",
   "id": "30f7619a",
   "metadata": {},
   "source": [
    "We will train 500 Decision Tree Classifiers which will be fitted in parallel using all cores. "
   ]
  },
  {
   "cell_type": "code",
   "execution_count": 8,
   "id": "98cc9d72",
   "metadata": {},
   "outputs": [],
   "source": [
    "bag_clf=BaggingClassifier(\n",
    "    DecisionTreeClassifier(),n_estimators=500, max_samples=100,\n",
    "    bootstrap=True,n_jobs=-1,oob_score=True\n",
    ")"
   ]
  },
  {
   "cell_type": "code",
   "execution_count": 9,
   "id": "ca5a23c0",
   "metadata": {},
   "outputs": [],
   "source": [
    "dtc_clf=DecisionTreeClassifier()"
   ]
  },
  {
   "cell_type": "code",
   "execution_count": 10,
   "id": "92a1f052",
   "metadata": {},
   "outputs": [
    {
     "data": {
      "text/plain": [
       "BaggingClassifier(base_estimator=DecisionTreeClassifier(), max_samples=100,\n",
       "                  n_estimators=500, n_jobs=-1, oob_score=True)"
      ]
     },
     "execution_count": 10,
     "metadata": {},
     "output_type": "execute_result"
    }
   ],
   "source": [
    "bag_clf.fit(X_train,y_train)"
   ]
  },
  {
   "cell_type": "code",
   "execution_count": 11,
   "id": "19e31d0a",
   "metadata": {},
   "outputs": [
    {
     "data": {
      "text/plain": [
       "0.9225"
      ]
     },
     "execution_count": 11,
     "metadata": {},
     "output_type": "execute_result"
    }
   ],
   "source": [
    "bag_clf.oob_score_\n",
    "# Based on this we expect the X_test predictions accuracy score to be ~.92"
   ]
  },
  {
   "cell_type": "code",
   "execution_count": 12,
   "id": "c27f462d",
   "metadata": {},
   "outputs": [
    {
     "data": {
      "text/plain": [
       "DecisionTreeClassifier()"
      ]
     },
     "execution_count": 12,
     "metadata": {},
     "output_type": "execute_result"
    }
   ],
   "source": [
    "dtc_clf.fit(X_train,y_train)"
   ]
  },
  {
   "cell_type": "code",
   "execution_count": 13,
   "id": "2adfd6f6",
   "metadata": {},
   "outputs": [],
   "source": [
    "y_pred=bag_clf.predict(X_test)"
   ]
  },
  {
   "cell_type": "code",
   "execution_count": 14,
   "id": "84cfbd84",
   "metadata": {},
   "outputs": [],
   "source": [
    "y_pred2=dtc_clf.predict(X_test)"
   ]
  },
  {
   "cell_type": "code",
   "execution_count": 15,
   "id": "981b5e68",
   "metadata": {},
   "outputs": [],
   "source": [
    "from sklearn.metrics import accuracy_score, precision_score, recall_score"
   ]
  },
  {
   "cell_type": "code",
   "execution_count": 16,
   "id": "66a3e6e0",
   "metadata": {},
   "outputs": [],
   "source": [
    "accuracy=accuracy_score(y_pred,y_test)\n",
    "precision=precision_score(y_pred,y_test)\n",
    "recall=recall_score(y_pred,y_test)"
   ]
  },
  {
   "cell_type": "code",
   "execution_count": 17,
   "id": "adf8e28d",
   "metadata": {},
   "outputs": [
    {
     "name": "stdout",
     "output_type": "stream",
     "text": [
      "For the bagging classifier: \n",
      "Accuracy=0.88 \n",
      "Precision=0.9158878504672897 \n",
      "Recall=0.8672566371681416\n"
     ]
    }
   ],
   "source": [
    "print('For the bagging classifier: \\nAccuracy={} \\nPrecision={} \\nRecall={}'.format(accuracy, precision, recall))"
   ]
  },
  {
   "cell_type": "code",
   "execution_count": 18,
   "id": "e390fd8e",
   "metadata": {},
   "outputs": [],
   "source": [
    "accuracy2=accuracy_score(y_pred2,y_test)\n",
    "precision2=precision_score(y_pred2,y_test)\n",
    "recall2=recall_score(y_pred2,y_test)"
   ]
  },
  {
   "cell_type": "code",
   "execution_count": 19,
   "id": "01eaf4b1",
   "metadata": {
    "scrolled": true
   },
   "outputs": [
    {
     "name": "stdout",
     "output_type": "stream",
     "text": [
      "For the decision tree classifier: \n",
      "Accuracy=0.855 \n",
      "Precision=0.8878504672897196 \n",
      "Recall=0.8482142857142857\n"
     ]
    }
   ],
   "source": [
    "print('For the decision tree classifier: \\nAccuracy={} \\nPrecision={} \\nRecall={}'.format(accuracy2, precision2, recall2))"
   ]
  },
  {
   "cell_type": "markdown",
   "id": "18908c0d",
   "metadata": {},
   "source": [
    "Bagging Classifier works slightly better than the DecisionTreeClassifier trained on the same data. "
   ]
  },
  {
   "cell_type": "code",
   "execution_count": 20,
   "id": "00e50523",
   "metadata": {},
   "outputs": [],
   "source": [
    "pst_clf=bag_clf=BaggingClassifier(\n",
    "    DecisionTreeClassifier(),n_estimators=500, max_samples=100,\n",
    "    bootstrap=False,n_jobs=-1\n",
    ")"
   ]
  },
  {
   "cell_type": "code",
   "execution_count": 21,
   "id": "c19cd18a",
   "metadata": {},
   "outputs": [
    {
     "data": {
      "text/plain": [
       "BaggingClassifier(base_estimator=DecisionTreeClassifier(), bootstrap=False,\n",
       "                  max_samples=100, n_estimators=500, n_jobs=-1)"
      ]
     },
     "execution_count": 21,
     "metadata": {},
     "output_type": "execute_result"
    }
   ],
   "source": [
    "pst_clf.fit(X_train, y_train)"
   ]
  },
  {
   "cell_type": "code",
   "execution_count": 22,
   "id": "4f38ff24",
   "metadata": {},
   "outputs": [],
   "source": [
    "y_pred3=pst_clf.predict(X_test)"
   ]
  },
  {
   "cell_type": "code",
   "execution_count": 23,
   "id": "11489e64",
   "metadata": {},
   "outputs": [],
   "source": [
    "accuracy3=accuracy_score(y_pred3,y_test)\n",
    "precision3=precision_score(y_pred3,y_test)\n",
    "recall3=recall_score(y_pred3,y_test)"
   ]
  },
  {
   "cell_type": "code",
   "execution_count": 24,
   "id": "570bddbf",
   "metadata": {},
   "outputs": [
    {
     "name": "stdout",
     "output_type": "stream",
     "text": [
      "For the pasting classifier: \n",
      "Accuracy=0.88 \n",
      "Precision=0.9158878504672897 \n",
      "Recall=0.8672566371681416\n"
     ]
    }
   ],
   "source": [
    "print('For the pasting classifier: \\nAccuracy={} \\nPrecision={} \\nRecall={}'.format(accuracy3, precision3, recall3))"
   ]
  },
  {
   "cell_type": "markdown",
   "id": "80be0d7d",
   "metadata": {},
   "source": [
    "Pasting also works slighly better than Decision Tree."
   ]
  },
  {
   "cell_type": "markdown",
   "id": "26cdef2f",
   "metadata": {},
   "source": [
    "# Random Patches and Random Subspaces"
   ]
  },
  {
   "cell_type": "markdown",
   "id": "fb213e66",
   "metadata": {},
   "source": [
    "Instead of sampling the observations (rows) we can also sample features (columns). \n",
    "\n",
    "If we keep all rows and only sample features, that is called as random subspaces. This is controlled using _max_features_ and _bootstrap_features_ hyperparameters. Particularly useful for high dimensionality datasets.\n",
    "\n",
    "If we sample both features and rows, that is called as random patches."
   ]
  }
 ],
 "metadata": {
  "kernelspec": {
   "display_name": "Python 3 (ipykernel)",
   "language": "python",
   "name": "python3"
  },
  "language_info": {
   "codemirror_mode": {
    "name": "ipython",
    "version": 3
   },
   "file_extension": ".py",
   "mimetype": "text/x-python",
   "name": "python",
   "nbconvert_exporter": "python",
   "pygments_lexer": "ipython3",
   "version": "3.7.4"
  }
 },
 "nbformat": 4,
 "nbformat_minor": 5
}
