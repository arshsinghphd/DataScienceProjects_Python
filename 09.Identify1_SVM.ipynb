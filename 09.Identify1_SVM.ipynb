{
 "cells": [
  {
   "cell_type": "code",
   "execution_count": 1,
   "id": "different-forum",
   "metadata": {},
   "outputs": [],
   "source": [
    "import numpy as np\n",
    "import matplotlib as mpl\n",
    "import matplotlib.pyplot as plt"
   ]
  },
  {
   "cell_type": "code",
   "execution_count": 2,
   "id": "bright-attribute",
   "metadata": {},
   "outputs": [],
   "source": [
    "from sklearn.datasets import fetch_openml"
   ]
  },
  {
   "cell_type": "code",
   "execution_count": 3,
   "id": "behavioral-panel",
   "metadata": {},
   "outputs": [],
   "source": [
    "mnist = fetch_openml('mnist_784',version=1)"
   ]
  },
  {
   "cell_type": "code",
   "execution_count": 4,
   "id": "collected-petroleum",
   "metadata": {},
   "outputs": [
    {
     "data": {
      "text/plain": [
       "dict_keys(['data', 'target', 'frame', 'categories', 'feature_names', 'target_names', 'DESCR', 'details', 'url'])"
      ]
     },
     "execution_count": 4,
     "metadata": {},
     "output_type": "execute_result"
    }
   ],
   "source": [
    "mnist.keys()"
   ]
  },
  {
   "cell_type": "code",
   "execution_count": 5,
   "id": "hydraulic-voltage",
   "metadata": {},
   "outputs": [],
   "source": [
    "X, y = mnist['data'], mnist['target'].astype(np.uint8)"
   ]
  },
  {
   "cell_type": "code",
   "execution_count": 6,
   "id": "enhanced-patrick",
   "metadata": {},
   "outputs": [
    {
     "data": {
      "text/plain": [
       "5"
      ]
     },
     "execution_count": 6,
     "metadata": {},
     "output_type": "execute_result"
    }
   ],
   "source": [
    "y[0]"
   ]
  },
  {
   "cell_type": "code",
   "execution_count": 7,
   "id": "signed-europe",
   "metadata": {},
   "outputs": [],
   "source": [
    "y=(y==1).astype(int)"
   ]
  },
  {
   "cell_type": "code",
   "execution_count": 8,
   "id": "placed-difficulty",
   "metadata": {},
   "outputs": [
    {
     "data": {
      "text/plain": [
       "0"
      ]
     },
     "execution_count": 8,
     "metadata": {},
     "output_type": "execute_result"
    }
   ],
   "source": [
    "y[0]"
   ]
  },
  {
   "cell_type": "code",
   "execution_count": 28,
   "id": "public-enclosure",
   "metadata": {},
   "outputs": [],
   "source": [
    "from sklearn.model_selection import train_test_split"
   ]
  },
  {
   "cell_type": "code",
   "execution_count": 29,
   "id": "annual-glance",
   "metadata": {},
   "outputs": [],
   "source": [
    "X_train, X_test, y_train, y_test=train_test_split(X,y,test_size=0.2, random_state=42)"
   ]
  },
  {
   "cell_type": "code",
   "execution_count": 31,
   "id": "ranking-baseball",
   "metadata": {},
   "outputs": [
    {
     "data": {
      "text/plain": [
       "(56000, 14000)"
      ]
     },
     "execution_count": 31,
     "metadata": {},
     "output_type": "execute_result"
    }
   ],
   "source": [
    "len(X_train),len(X_test)"
   ]
  },
  {
   "cell_type": "code",
   "execution_count": 9,
   "id": "competitive-switch",
   "metadata": {},
   "outputs": [],
   "source": [
    "from sklearn.svm import SVC"
   ]
  },
  {
   "cell_type": "code",
   "execution_count": 10,
   "id": "boxed-finger",
   "metadata": {},
   "outputs": [],
   "source": [
    "from sklearn.svm import LinearSVC"
   ]
  },
  {
   "cell_type": "code",
   "execution_count": 11,
   "id": "certain-chicken",
   "metadata": {},
   "outputs": [],
   "source": [
    "from sklearn.pipeline import Pipeline"
   ]
  },
  {
   "cell_type": "code",
   "execution_count": 12,
   "id": "alternative-landscape",
   "metadata": {},
   "outputs": [],
   "source": [
    "from sklearn.preprocessing import StandardScaler"
   ]
  },
  {
   "cell_type": "code",
   "execution_count": 25,
   "id": "composite-command",
   "metadata": {},
   "outputs": [],
   "source": [
    "svc_clf_linear_pipe=Pipeline([\n",
    "    (\"scaler\",StandardScaler()),\n",
    "    (\"svc_classifier\",LinearSVC(C=10,loss='hinge',max_iter=10**5))\n",
    "])"
   ]
  },
  {
   "cell_type": "code",
   "execution_count": 32,
   "id": "fatty-treaty",
   "metadata": {
    "scrolled": false
   },
   "outputs": [
    {
     "name": "stderr",
     "output_type": "stream",
     "text": [
      "C:\\Users\\arsha\\Anaconda3\\lib\\site-packages\\sklearn\\svm\\_base.py:977: ConvergenceWarning: Liblinear failed to converge, increase the number of iterations.\n",
      "  \"the number of iterations.\", ConvergenceWarning)\n"
     ]
    },
    {
     "data": {
      "text/plain": [
       "Pipeline(steps=[('scaler', StandardScaler()),\n",
       "                ('svc_classifier',\n",
       "                 LinearSVC(C=10, loss='hinge', max_iter=100000))])"
      ]
     },
     "execution_count": 32,
     "metadata": {},
     "output_type": "execute_result"
    }
   ],
   "source": [
    "svc_clf_linear_pipe.fit(X_train,y_train)\n",
    "#the model fitting does not converge at 10^5 iterations"
   ]
  },
  {
   "cell_type": "raw",
   "id": "appointed-ridge",
   "metadata": {},
   "source": [
    "from sklearn.preprocessing import PolynomialFeatures"
   ]
  },
  {
   "cell_type": "raw",
   "id": "gross-bahrain",
   "metadata": {},
   "source": [
    "svc_clf_poly_pipe=Pipeline([\n",
    "    (\"poly_features\",PolynomialFeatures(degree=2)),\n",
    "    (\"scaler\", StandardScaler()),\n",
    "    (\"svc_classifier\",LinearSVC(C=10,loss='hinge',max_iter=100))\n",
    "])"
   ]
  },
  {
   "cell_type": "raw",
   "id": "standard-offense",
   "metadata": {},
   "source": [
    "svc_clf_poly_pipe.fit(X,y)\n",
    "# huge memory needed to fit polynomial features\n",
    "# about 168 GB for polynomial features"
   ]
  },
  {
   "cell_type": "code",
   "execution_count": 44,
   "id": "loved-vertex",
   "metadata": {},
   "outputs": [],
   "source": [
    "y_pred=svc_clf_linear_pipe.predict(X_test)"
   ]
  },
  {
   "cell_type": "code",
   "execution_count": 45,
   "id": "american-julian",
   "metadata": {},
   "outputs": [
    {
     "data": {
      "text/plain": [
       "0.012285714285714285"
      ]
     },
     "execution_count": 45,
     "metadata": {},
     "output_type": "execute_result"
    }
   ],
   "source": [
    "SSE=sum((y_pred-y_test)**2)/len(y_test)\n",
    "SSE"
   ]
  },
  {
   "cell_type": "code",
   "execution_count": 46,
   "id": "ultimate-isaac",
   "metadata": {},
   "outputs": [],
   "source": [
    "from sklearn.metrics import precision_score, recall_score"
   ]
  },
  {
   "cell_type": "code",
   "execution_count": 47,
   "id": "provincial-valuation",
   "metadata": {},
   "outputs": [
    {
     "data": {
      "text/plain": [
       "(0.9244946492271106, 0.971875)"
      ]
     },
     "execution_count": 47,
     "metadata": {},
     "output_type": "execute_result"
    }
   ],
   "source": [
    "precision_score(y_test,y_pred),recall_score(y_test,y_pred)"
   ]
  }
 ],
 "metadata": {
  "kernelspec": {
   "display_name": "Python 3",
   "language": "python",
   "name": "python3"
  },
  "language_info": {
   "codemirror_mode": {
    "name": "ipython",
    "version": 3
   },
   "file_extension": ".py",
   "mimetype": "text/x-python",
   "name": "python",
   "nbconvert_exporter": "python",
   "pygments_lexer": "ipython3",
   "version": "3.7.4"
  }
 },
 "nbformat": 4,
 "nbformat_minor": 5
}
