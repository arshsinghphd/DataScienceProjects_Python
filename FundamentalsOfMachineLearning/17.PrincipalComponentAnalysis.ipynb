{
 "cells": [
  {
   "cell_type": "markdown",
   "id": "6f54d7f9",
   "metadata": {},
   "source": [
    "# Principal Component Analyis\n",
    "\n",
    "Often in real world data with large dimensionality, it is possible to reduce the dimensions of the data without losing too much of the variance. This reduction of dimensionality is only useful if it makes the analysis: modeling and predictions simpler. \n",
    "\n",
    "The search of an axis such that when the data is projected on it preserves the maxiumum amount of variance possible, is called principal component analysis.\n"
   ]
  },
  {
   "cell_type": "code",
   "execution_count": 1,
   "id": "79ad981a",
   "metadata": {},
   "outputs": [],
   "source": [
    "import numpy as np"
   ]
  },
  {
   "cell_type": "markdown",
   "id": "02f2fcd8",
   "metadata": {},
   "source": [
    "We generate a 3-D datset using random"
   ]
  },
  {
   "cell_type": "code",
   "execution_count": 2,
   "id": "76c0396e",
   "metadata": {},
   "outputs": [],
   "source": [
    "np.random.seed(42)\n",
    "m = 50\n",
    "w1, w2 = 0.1, 0.2\n",
    "noise = 0.08\n",
    "\n",
    "angles = np.random.rand(m) * 3 * np.pi / 2 - 0.5\n",
    "X = np.empty((m, 3))\n",
    "X[:, 0] = np.cos(angles) + np.sin(angles)/2 + noise * np.random.randn(m) / 2\n",
    "X[:, 1] = np.sin(angles) * 0.7 + noise * np.random.randn(m) / 2\n",
    "X[:, 2] = X[:, 0] * w1 + X[:, 1] * w2 + noise * np.random.randn(m)"
   ]
  },
  {
   "cell_type": "code",
   "execution_count": 3,
   "id": "9717f950",
   "metadata": {},
   "outputs": [
    {
     "data": {
      "text/plain": [
       "array([[ 0.80741216,  0.67140388,  0.23321879],\n",
       "       [-1.03352726, -0.48182307, -0.09514592],\n",
       "       [-0.89073528,  0.10559841, -0.19655251],\n",
       "       [-0.32817664,  0.49892524,  0.08173809],\n",
       "       [ 1.02985081,  0.14745588,  0.15326688]])"
      ]
     },
     "execution_count": 3,
     "metadata": {},
     "output_type": "execute_result"
    }
   ],
   "source": [
    "X[:5]"
   ]
  },
  {
   "cell_type": "markdown",
   "id": "c75e15a4",
   "metadata": {},
   "source": [
    "Project this onto 2-D using PCA function from sklearn"
   ]
  },
  {
   "cell_type": "code",
   "execution_count": 4,
   "id": "e4dad084",
   "metadata": {},
   "outputs": [],
   "source": [
    "from sklearn.decomposition import PCA"
   ]
  },
  {
   "cell_type": "code",
   "execution_count": 5,
   "id": "56d26977",
   "metadata": {},
   "outputs": [],
   "source": [
    "pca = PCA(n_components = 2)\n",
    "X2D=pca.fit_transform(X)"
   ]
  },
  {
   "cell_type": "code",
   "execution_count": 6,
   "id": "bed4e6bf",
   "metadata": {
    "scrolled": true
   },
   "outputs": [
    {
     "data": {
      "text/plain": [
       "array([[-0.67694888, -0.32205002],\n",
       "       [ 1.39205431,  0.40816528],\n",
       "       [ 1.14596704, -0.09949586],\n",
       "       [ 0.47929492, -0.39518628],\n",
       "       [-0.77095747,  0.24484606]])"
      ]
     },
     "execution_count": 6,
     "metadata": {},
     "output_type": "execute_result"
    }
   ],
   "source": [
    "X2D[:5]"
   ]
  },
  {
   "cell_type": "markdown",
   "id": "21d4a9e2",
   "metadata": {},
   "source": [
    "To understand the variance lost, we will reproject X2D into 3-D array and compare the variance (mean squared error) with X."
   ]
  },
  {
   "cell_type": "code",
   "execution_count": 7,
   "id": "e1bca982",
   "metadata": {},
   "outputs": [],
   "source": [
    "X3D_recon=pca.inverse_transform(X2D)"
   ]
  },
  {
   "cell_type": "code",
   "execution_count": 8,
   "id": "27f7001e",
   "metadata": {},
   "outputs": [
    {
     "data": {
      "text/plain": [
       "array([[ 0.80721491,  0.67097429,  0.23514824],\n",
       "       [-1.02247989, -0.4577623 , -0.20321149],\n",
       "       [-0.90348859,  0.07782218, -0.07179946],\n",
       "       [-0.32808349,  0.49912811,  0.08082695],\n",
       "       [ 1.03100039,  0.14995962,  0.14202171]])"
      ]
     },
     "execution_count": 8,
     "metadata": {},
     "output_type": "execute_result"
    }
   ],
   "source": [
    "X3D_recon[:5]"
   ]
  },
  {
   "cell_type": "code",
   "execution_count": 9,
   "id": "a4192f7e",
   "metadata": {},
   "outputs": [
    {
     "data": {
      "text/plain": [
       "0.005126201193575271"
      ]
     },
     "execution_count": 9,
     "metadata": {},
     "output_type": "execute_result"
    }
   ],
   "source": [
    "np.mean(np.sum(np.square(X3D_recon - X), axis=1))"
   ]
  },
  {
   "cell_type": "markdown",
   "id": "3030570e",
   "metadata": {},
   "source": [
    "In this case the variance lost is minimal: 0.5%"
   ]
  },
  {
   "cell_type": "markdown",
   "id": "8e9e1fd6",
   "metadata": {},
   "source": [
    "Similar information can be extracted from the information saved by the pca function"
   ]
  },
  {
   "cell_type": "code",
   "execution_count": 10,
   "id": "779fd9dd",
   "metadata": {},
   "outputs": [
    {
     "data": {
      "text/plain": [
       "array([0.8469243 , 0.14723277])"
      ]
     },
     "execution_count": 10,
     "metadata": {},
     "output_type": "execute_result"
    }
   ],
   "source": [
    "pca.explained_variance_ratio_"
   ]
  },
  {
   "cell_type": "code",
   "execution_count": 11,
   "id": "9263df45",
   "metadata": {},
   "outputs": [
    {
     "data": {
      "text/plain": [
       "0.005842925909389063"
      ]
     },
     "execution_count": 11,
     "metadata": {},
     "output_type": "execute_result"
    }
   ],
   "source": [
    " 1 - sum(pca.explained_variance_ratio_)"
   ]
  }
 ],
 "metadata": {
  "kernelspec": {
   "display_name": "Python 3 (ipykernel)",
   "language": "python",
   "name": "python3"
  },
  "language_info": {
   "codemirror_mode": {
    "name": "ipython",
    "version": 3
   },
   "file_extension": ".py",
   "mimetype": "text/x-python",
   "name": "python",
   "nbconvert_exporter": "python",
   "pygments_lexer": "ipython3",
   "version": "3.7.4"
  }
 },
 "nbformat": 4,
 "nbformat_minor": 5
}
