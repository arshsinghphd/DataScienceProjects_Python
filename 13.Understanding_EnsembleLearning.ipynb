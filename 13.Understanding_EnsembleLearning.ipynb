{
 "cells": [
  {
   "cell_type": "markdown",
   "id": "1f1ad791",
   "metadata": {},
   "source": [
    "### If we train diverse classification models and them combine the predictions from these to one classifier, we get much better predictions. This project is to illustrate that point.\n",
    "\n",
    "### Note that this is a conditional statement. For example, if the sample is very large say 1M, then SVC works better than the ensemble."
   ]
  },
  {
   "cell_type": "code",
   "execution_count": 1,
   "id": "5a71aab2",
   "metadata": {},
   "outputs": [],
   "source": [
    "N=10**3"
   ]
  },
  {
   "cell_type": "code",
   "execution_count": 2,
   "id": "b642ca15",
   "metadata": {},
   "outputs": [],
   "source": [
    "from sklearn.datasets import make_moons"
   ]
  },
  {
   "cell_type": "code",
   "execution_count": 3,
   "id": "0bd48d84",
   "metadata": {},
   "outputs": [],
   "source": [
    "X, y = make_moons(n_samples=N, noise=.3, random_state=42)"
   ]
  },
  {
   "cell_type": "code",
   "execution_count": 4,
   "id": "067dbb87",
   "metadata": {},
   "outputs": [],
   "source": [
    "from sklearn.model_selection import train_test_split"
   ]
  },
  {
   "cell_type": "code",
   "execution_count": 5,
   "id": "2f14dd67",
   "metadata": {},
   "outputs": [],
   "source": [
    "X_train, X_test, y_train, y_test = train_test_split(X, y, random_state=42)"
   ]
  },
  {
   "cell_type": "markdown",
   "id": "9a23f67f",
   "metadata": {},
   "source": [
    "We will train many models now"
   ]
  },
  {
   "cell_type": "code",
   "execution_count": 6,
   "id": "57765dd2",
   "metadata": {},
   "outputs": [],
   "source": [
    "from sklearn.linear_model import LogisticRegression"
   ]
  },
  {
   "cell_type": "code",
   "execution_count": 7,
   "id": "cd1afbd0",
   "metadata": {},
   "outputs": [],
   "source": [
    "from sklearn.svm import SVC"
   ]
  },
  {
   "cell_type": "code",
   "execution_count": 8,
   "id": "2b65e824",
   "metadata": {},
   "outputs": [],
   "source": [
    "from sklearn.ensemble import RandomForestClassifier"
   ]
  },
  {
   "cell_type": "code",
   "execution_count": 9,
   "id": "408455ce",
   "metadata": {},
   "outputs": [],
   "source": [
    "rfc_clf=RandomForestClassifier()"
   ]
  },
  {
   "cell_type": "code",
   "execution_count": 10,
   "id": "f32484a0",
   "metadata": {},
   "outputs": [],
   "source": [
    "svc_clf=SVC(probability=True)"
   ]
  },
  {
   "cell_type": "code",
   "execution_count": 11,
   "id": "197239b8",
   "metadata": {},
   "outputs": [],
   "source": [
    "log_clf=LogisticRegression()"
   ]
  },
  {
   "cell_type": "markdown",
   "id": "d9cf12e3",
   "metadata": {},
   "source": [
    "Now we will train an ensemble model with 'hard' voting, that is the voting is based on prediction by majority votes for each case"
   ]
  },
  {
   "cell_type": "code",
   "execution_count": 12,
   "id": "05b45a5d",
   "metadata": {},
   "outputs": [],
   "source": [
    "from sklearn.ensemble import VotingClassifier"
   ]
  },
  {
   "cell_type": "code",
   "execution_count": 13,
   "id": "75679c9c",
   "metadata": {},
   "outputs": [],
   "source": [
    "vot_clf=VotingClassifier(\n",
    "    estimators=[('lr',log_clf),('rf',rfc_clf),('sv',svc_clf)],\n",
    "    voting='hard'\n",
    "    )"
   ]
  },
  {
   "cell_type": "code",
   "execution_count": 14,
   "id": "3761bc16",
   "metadata": {},
   "outputs": [
    {
     "data": {
      "text/plain": [
       "VotingClassifier(estimators=[('lr', LogisticRegression()),\n",
       "                             ('rf', RandomForestClassifier()),\n",
       "                             ('sv', SVC(probability=True))])"
      ]
     },
     "execution_count": 14,
     "metadata": {},
     "output_type": "execute_result"
    }
   ],
   "source": [
    "vot_clf.fit(X_train, y_train)"
   ]
  },
  {
   "cell_type": "code",
   "execution_count": 15,
   "id": "e534c081",
   "metadata": {},
   "outputs": [],
   "source": [
    "from sklearn.metrics import accuracy_score, recall_score,precision_score"
   ]
  },
  {
   "cell_type": "code",
   "execution_count": 16,
   "id": "83d5ab23",
   "metadata": {},
   "outputs": [
    {
     "name": "stdout",
     "output_type": "stream",
     "text": [
      "RandomForestClassifier \taccuracy= 0.90448 \trecall= 0.8997148288973384 \tprecision= 0.9100961538461538\n",
      "SVC \taccuracy= 0.91332 \trecall= 0.909458174904943 \tprecision= 0.9181127548980408\n",
      "LogisticRegression \taccuracy= 0.85392 \trecall= 0.8530576679340938 \tprecision= 0.8569950660512494\n",
      "VotingClassifier \taccuracy= 0.91036 \trecall= 0.9068441064638784 \tprecision= 0.9148885159434188\n"
     ]
    }
   ],
   "source": [
    "for clsfr in (rfc_clf, svc_clf, log_clf,vot_clf):\n",
    "    clsfr.fit(X_train,y_train)\n",
    "    y_pred=clsfr.predict(X_test)\n",
    "    print(clsfr.__class__.__name__,'\\t'\n",
    "          'accuracy=', accuracy_score(y_test,y_pred),'\\t' \n",
    "          'recall=',recall_score(y_test,y_pred),'\\t'\n",
    "          'precision=',precision_score(y_test,y_pred)\n",
    "         )"
   ]
  },
  {
   "cell_type": "markdown",
   "id": "cbd87a5e",
   "metadata": {},
   "source": [
    "Now we will train an ensemble model with 'soft' voting, that is the voting is based on average probability for class by each model."
   ]
  },
  {
   "cell_type": "code",
   "execution_count": 17,
   "id": "6410a05c",
   "metadata": {},
   "outputs": [],
   "source": [
    "vot_clf_soft=VotingClassifier(\n",
    "    estimators=[('lr',log_clf),('rf',rfc_clf),('sv',svc_clf)],\n",
    "    voting='soft'\n",
    "    )"
   ]
  },
  {
   "cell_type": "code",
   "execution_count": 20,
   "id": "8f78b5c0",
   "metadata": {},
   "outputs": [
    {
     "name": "stdout",
     "output_type": "stream",
     "text": [
      "VotingClassifier \taccuracy= 0.91012 \trecall= 0.9070025348542459 \tprecision= 0.9143176555138545\n"
     ]
    }
   ],
   "source": [
    "for clsfr in ([vot_clf_soft]):\n",
    "    clsfr.fit(X_train,y_train)\n",
    "    y_pred=clsfr.predict(X_test)\n",
    "    print(clsfr.__class__.__name__,'\\t'\n",
    "          'accuracy=', accuracy_score(y_test,y_pred),'\\t' \n",
    "          'recall=',recall_score(y_test,y_pred),'\\t'\n",
    "          'precision=',precision_score(y_test,y_pred)\n",
    "         )"
   ]
  },
  {
   "cell_type": "raw",
   "id": "11ea7573",
   "metadata": {},
   "source": [
    "For N=10^5, the results are as follows,\n",
    "\n",
    "RandomForestClassifier \taccuracy= 0.904 \trecall= 0.8997 \tprecision= 0.9101\n",
    "                   SVC  accuracy= 0.913 \trecall= 0.9094 \tprecision= 0.9181\n",
    "    LogisticRegression \taccuracy= 0.854 \trecall= 0.8531 \tprecision= 0.8570\n",
    "VotingClassifier(hard) \taccuracy= 0.910 \trecall= 0.9068 \tprecision= 0.9149\n",
    "VotingClassifier(soft)  accuracy= 0.910 \trecall= 0.9070  precision= 0.9143\n"
   ]
  }
 ],
 "metadata": {
  "kernelspec": {
   "display_name": "Python 3 (ipykernel)",
   "language": "python",
   "name": "python3"
  },
  "language_info": {
   "codemirror_mode": {
    "name": "ipython",
    "version": 3
   },
   "file_extension": ".py",
   "mimetype": "text/x-python",
   "name": "python",
   "nbconvert_exporter": "python",
   "pygments_lexer": "ipython3",
   "version": "3.7.4"
  }
 },
 "nbformat": 4,
 "nbformat_minor": 5
}
